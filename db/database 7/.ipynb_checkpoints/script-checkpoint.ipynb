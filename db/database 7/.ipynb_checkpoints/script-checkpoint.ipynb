{
 "cells": [
  {
   "cell_type": "code",
   "execution_count": 4,
   "metadata": {},
   "outputs": [],
   "source": [
    "# soup_temp = 1"
   ]
  },
  {
   "cell_type": "code",
   "execution_count": 5,
   "metadata": {},
   "outputs": [],
   "source": [
    "def convert_to_hindi_number(input_str):\n",
    "    english_numbers = [\"0\", \"1\", \"2\", \"3\", \"4\", \"5\", \"6\", \"7\", \"8\", \"9\"]\n",
    "    hindi_numbers = [\"०\", \"१\", \"२\", \"३\", \"४\", \"५\", \"६\", \"७\", \"८\", \"९\"]\n",
    "\n",
    "    result = []\n",
    "\n",
    "    for char in input_str:\n",
    "        if char.isdigit():\n",
    "            result.append(hindi_numbers[english_numbers.index(char)])\n",
    "        elif char == '-':\n",
    "            result.append('-')  # Preserve hyphen\n",
    "        else:\n",
    "            result.append(char)  # Preserve other characters\n",
    "\n",
    "    return ''.join(result)"
   ]
  },
  {
   "cell_type": "code",
   "execution_count": 6,
   "metadata": {},
   "outputs": [],
   "source": [
    "import re\n",
    "\n",
    "def remove_bg(input_text):\n",
    "    pattern = re.compile(r'^BG \\d+\\.\\d+-\\d+\\n:')\n",
    "    result = re.sub(pattern, '', input_text)\n",
    "    pattern = re.compile(r'^BG \\d+\\.\\d+\\n:')\n",
    "    result = re.sub(pattern, '', result)\n",
    "    return result\n",
    "\n",
    "def remove_numbered_strings(input_text):\n",
    "    pattern = re.compile(r'\\n\\d+\\n')\n",
    "    result = re.sub(pattern, '', input_text)\n",
    "    return result"
   ]
  },
  {
   "cell_type": "code",
   "execution_count": 7,
   "metadata": {},
   "outputs": [],
   "source": [
    "def find_verse(soup):\n",
    "    if soup.find('div', {'id': 'originalVerse'}) != None:\n",
    "        return '\\n'.join([paragraph.get_text('\\n', strip=True) for paragraph in soup.find('div', {'id': 'originalVerse'}).find_all('p')]).strip('\\n')\n",
    "    else:\n",
    "        return \"NONE\""
   ]
  },
  {
   "cell_type": "code",
   "execution_count": 8,
   "metadata": {},
   "outputs": [],
   "source": [
    "def synonyms(soup):\n",
    "    if soup.find('div', {'id': 'wordMeanings'}) != None and soup.find('div', {'id': 'wordMeanings'}).find('p') != None:\n",
    "        return soup.find('div', {'id': 'wordMeanings'}).find('p').get_text('\\n', strip=True).strip('\\n')\n",
    "    else:\n",
    "        return \"NONE\""
   ]
  },
  {
   "cell_type": "code",
   "execution_count": 9,
   "metadata": {},
   "outputs": [],
   "source": [
    "def translation(soup):\n",
    "    if soup.find('div', {'id': 'translation'}) != None :\n",
    "        return remove_bg(soup.find('div', {'id': 'translation'}).find('p').get_text('\\n', strip=True)).strip('\\n')\n",
    "    else:\n",
    "        return \"NONE\""
   ]
  },
  {
   "cell_type": "code",
   "execution_count": 10,
   "metadata": {},
   "outputs": [],
   "source": [
    "def purport(soup):\n",
    "    if soup.find('div', {'id': 'commentary'}) != None :\n",
    "        return '\\n'.join([paragraph.get_text(strip=True) for paragraph in soup.find('div', {'id': 'commentary'}).find_all('p')]).strip('\\n')\n",
    "    else:\n",
    "        return \"NONE\""
   ]
  },
  {
   "cell_type": "code",
   "execution_count": 11,
   "metadata": {},
   "outputs": [],
   "source": [
    "import requests\n",
    "from bs4 import BeautifulSoup\n",
    "def scrape_data(verse_id, chapter, verse):\n",
    "    url = f\"https://www.holy-bhagavad-gita.org/chapter/{chapter}/verse/{verse}\"\n",
    "    try:\n",
    "        response = requests.get(url)\n",
    "        response.raise_for_status()\n",
    "        soup = BeautifulSoup(response.content, \"html.parser\")\n",
    "        \n",
    "        id = verse_id\n",
    "        chapter_id = chapter\n",
    "        verse_org_dev = '\\n'.join([paragraph.get_text(strip=True) for paragraph in soup.find('div', {'id': 'originalVerse'}).find_all('p')]).strip('\\n') if soup.find('div', {'id': 'originalVerse'}) else 'NONE'\n",
    "        verse_org_roman = soup.find('div', {'id': 'transliteration_wo_dia'}).find('p').get_text('\\n', strip=True).strip('\\n') if soup.find('div', {'id': 'transliteration_wo_dia'}) else 'NONE'\n",
    "        \n",
    "        chapter_number_en = str(chapter)\n",
    "        verse_number_en = soup.find('span', class_='breadcrumb_last').get_text(strip=True).replace('Verse', '').strip('\\n') if soup.find('span', class_='breadcrumb_last') else 'NONE'\n",
    "        chapter_number_dev = convert_to_hindi_number(chapter_number_en)\n",
    "        verse_number_dev = convert_to_hindi_number(verse_number_en)\n",
    "        \n",
    "#         verse_en =  soup.find('div', {'id': 'transliteration'}).find('p').get_text('\\n', strip=True).strip('\\n') if soup.find('div', {'id': 'transliteration'}) else 'NONE'\n",
    "#         synonyms_en =  (\"; \".join( f\"{entry.get_text(strip=True)}—{entry.find_next('span', {'class': 'meaning'}).get_text(strip=True)}\" for entry in soup.find('div', {'id': 'wordMeanings'}).find_all('a', {'class': 'word'}) )).strip('\\n')\n",
    "#         translation_en =  translation(soup)\n",
    "#         purport_en =  purport(soup)\n",
    "        \n",
    "        \n",
    "        response = requests.get(url + \"/hi\")\n",
    "        response.raise_for_status()\n",
    "        soup = BeautifulSoup(response.content, \"html.parser\")\n",
    "        verse_hi = find_verse(soup)\n",
    "        synonyms_hi = synonyms(soup)\n",
    "        translation_hi = translation(soup)\n",
    "#         purport_hi = purport(soup)\n",
    "        \n",
    "#         response = requests.get(url + \"/te\")\n",
    "#         response.raise_for_status()\n",
    "#         soup = BeautifulSoup(response.content, \"html.parser\")\n",
    "#         verse_te = find_verse(soup)\n",
    "#         synonyms_te = synonyms(soup)\n",
    "#         translation_te = translation(soup)\n",
    "#         purport_te = purport(soup)\n",
    "        \n",
    "#         response = requests.get(url + \"/or\")\n",
    "#         response.raise_for_status()\n",
    "#         soup = BeautifulSoup(response.content, \"html.parser\")\n",
    "#         verse_or = find_verse(soup)\n",
    "#         synonyms_or = synonyms(soup)\n",
    "#         translation_or = translation(soup)\n",
    "#         purport_or = purport(soup)\n",
    "        \n",
    "#         response = requests.get(url + \"/gu\")\n",
    "#         response.raise_for_status()\n",
    "#         soup = BeautifulSoup(response.content, \"html.parser\")\n",
    "#         verse_gu = find_verse(soup)\n",
    "#         synonyms_gu = synonyms(soup)\n",
    "#         translation_gu = translation(soup)\n",
    "#         purport_gu = purport(soup)\n",
    "        \n",
    "#         response = requests.get(url + \"/ta\")\n",
    "#         response.raise_for_status()\n",
    "#         soup = BeautifulSoup(response.content, \"html.parser\")\n",
    "#         verse_ta = remove_numbered_strings(find_verse(soup))\n",
    "#         synonyms_ta = synonyms(soup)\n",
    "#         translation_ta = translation(soup)\n",
    "#         purport_ta = purport(soup)\n",
    "        \n",
    "        \n",
    "        data = {\n",
    "            \"id\" : id,\n",
    "            \"chapter_id\" : chapter_id,\n",
    "            \"verse_org_dev\" : verse_org_dev,\n",
    "            \"verse_org_roman\" : verse_org_roman,\n",
    "            \n",
    "            \"chapter_number_en\" : chapter_number_en,\n",
    "            \"verse_number_en\" : verse_number_en,\n",
    "            \"chapter_number_dev\" : chapter_number_dev,\n",
    "            \"verse_number_dev\" : verse_number_dev,\n",
    "            \n",
    "            \"verse_en\" : \"\",\n",
    "            \"synonyms_en\" : \"\",\n",
    "            \"translation_en\" : \"\",\n",
    "            \"purport_en\" : \"\",\n",
    "            \n",
    "            \"verse_hi\" : verse_hi,\n",
    "            \"synonyms_hi\" : synonyms_hi,\n",
    "            \"translation_hi\" : translation_hi,\n",
    "            \"purport_hi\" : \"\",\n",
    "            \n",
    "            \"verse_te\" : \"\",\n",
    "            \"synonyms_te\" : \"\",\n",
    "            \"translation_te\" : \"\",\n",
    "            \"purport_te\" : \"\",\n",
    "            \n",
    "            \"verse_or\" : \"\",\"\"\n",
    "            \"synonyms_or\" : \"\",\n",
    "            \"translation_or\" : \"\",\n",
    "            \"purport_or\" : \"\",\n",
    "            \n",
    "            \"verse_gu\" : \"\",\n",
    "            \"synonyms_gu\" : \"\",\n",
    "            \"translation_gu\" : \"\",\n",
    "            \"purport_gu\" : \"\",\n",
    "            \n",
    "            \"verse_ta\" : \"\",\n",
    "            \"synonyms_ta\" : \"\",\n",
    "            \"translation_ta\" : \"\",\n",
    "            \"purport_ta\" : \"\", \n",
    "            \n",
    "            \"like\" : False\n",
    "        }\n",
    "        return data\n",
    "\n",
    "    except requests.exceptions.RequestException as e:\n",
    "        print(f\"Error fetching data: {e}\")\n",
    "        return None"
   ]
  },
  {
   "cell_type": "code",
   "execution_count": 12,
   "metadata": {},
   "outputs": [],
   "source": [
    "verses_per_chapter = [47, 72, 43, 42, 29, 47, 30, 28, 34, 42, 55, 20, 35, 27, 20, 24, 28, 78]"
   ]
  },
  {
   "cell_type": "code",
   "execution_count": 13,
   "metadata": {},
   "outputs": [],
   "source": [
    "# data = []\n",
    "\n",
    "# verse_id = 1\n",
    "\n",
    "# for chapter_number in range(1,19):\n",
    "#     verse_count = verses_per_chapter[chapter_number-1]\n",
    "#     for verse_number in range(1,verse_count+1):\n",
    "#         verse = scrape_data(verse_id, chapter_number, verse_number)\n",
    "#         if len(data) > 0 :\n",
    "#             last_verse = data[len(data)-1]\n",
    "#             if(last_verse['verse_number_en'] == verse['verse_number_en']):\n",
    "#                 continue\n",
    "#         data.append(verse)\n",
    "#         verse_id += 1\n",
    "#         print(\"verse \" + str(verse['verse_number_en']))"
   ]
  },
  {
   "cell_type": "code",
   "execution_count": 14,
   "metadata": {},
   "outputs": [],
   "source": [
    "# import json\n",
    "# # Write the result to result.json\n",
    "# with open('verses.json', 'w', encoding='utf-8') as file:\n",
    "#     json.dump(data, file, ensure_ascii=False, indent=2)"
   ]
  },
  {
   "cell_type": "code",
   "execution_count": 15,
   "metadata": {},
   "outputs": [],
   "source": [
    "# data2 = []\n",
    "# verse_id = 580\n",
    "# for chapter_number in range(18,19):\n",
    "#     verse_count = verses_per_chapter[chapter_number-1]\n",
    "#     for verse_number in range(15,verse_count+1):\n",
    "#         verse = scrape_data(verse_id, chapter_number, verse_number)\n",
    "#         if len(data2) > 0 :\n",
    "#             last_verse = data2[len(data2)-1]\n",
    "#             if(last_verse['verse_number_en'] == verse['verse_number_en']) :\n",
    "#                 continue\n",
    "#         data2.append(verse)\n",
    "#         verse_id += 1\n",
    "#         print(\"verse \" + str(verse['verse_number_en']))"
   ]
  },
  {
   "cell_type": "code",
   "execution_count": 16,
   "metadata": {},
   "outputs": [],
   "source": [
    "verses = [\n",
    "    [1,9],\n",
    "    [1,10],\n",
    "    [1,19],\n",
    "    [11,19],\n",
    "    [13,1]\n",
    "]"
   ]
  },
  {
   "cell_type": "code",
   "execution_count": 21,
   "metadata": {},
   "outputs": [
    {
     "data": {
      "text/plain": [
       "{'id': 1,\n",
       " 'chapter_id': 1,\n",
       " 'verse_org_dev': 'स घोषो धार्तराष्ट्राणां हृदयानि व्यदारयत् |\\nनभश्च पृथिवीं चैव तुमुलोऽभ्यनुनादयन् || 19||',\n",
       " 'verse_org_roman': 'sa ghosho dhartarashtranam hridayani vyadarayat\\nnabhashcha prithivim chaiva tumulo abhyanunadayan',\n",
       " 'chapter_number_en': '1',\n",
       " 'verse_number_en': ' 19',\n",
       " 'chapter_number_dev': '१',\n",
       " 'verse_number_dev': ' १९',\n",
       " 'verse_en': '',\n",
       " 'synonyms_en': '',\n",
       " 'translation_en': '',\n",
       " 'purport_en': '',\n",
       " 'verse_hi': 'स घोषो धार्तराष्ट्राणां हृदयानि व्यदारयत्।\\nनभश्च पृथिवीं चैव तुमुलोऽभ्यनुनादयन् ॥19॥',\n",
       " 'synonyms_hi': 'सः-उस; घोषः-शब्द ध्वनि; धार्तराष्ट्राणाम् धृतराष्ट्र के पुत्रों के; हृदयानि- हृदयों को; व्यदारयत्-विदीर्ण कर दिया; नभ:-आकाश; च-भी; पृथिवीम्-पृथ्वी को; च-भी; एव-निश्चय ही; तुमुल:-कोलाहलपूर्ण ध्वनि; व्यनुनादयन्–गर्जना करना।',\n",
       " 'translation_hi': 'हे धृतराष्ट्र! इन शंखों से उत्पन्न ध्वनि द्वारा आकाश और धरती के बीच हुई गर्जना ने\\r\\nआपके पुत्रों के हृदयों को विदीर्ण कर दिया।',\n",
       " 'purport_hi': '',\n",
       " 'verse_te': '',\n",
       " 'synonyms_te': '',\n",
       " 'translation_te': '',\n",
       " 'purport_te': '',\n",
       " 'verse_or': '',\n",
       " 'synonyms_or': '',\n",
       " 'translation_or': '',\n",
       " 'purport_or': '',\n",
       " 'verse_gu': '',\n",
       " 'synonyms_gu': '',\n",
       " 'translation_gu': '',\n",
       " 'purport_gu': '',\n",
       " 'verse_ta': '',\n",
       " 'synonyms_ta': '',\n",
       " 'translation_ta': '',\n",
       " 'purport_ta': '',\n",
       " 'like': False}"
      ]
     },
     "execution_count": 21,
     "metadata": {},
     "output_type": "execute_result"
    }
   ],
   "source": [
    "res = scrape_data(1,1,19)\n",
    "res"
   ]
  },
  {
   "cell_type": "code",
   "execution_count": null,
   "metadata": {},
   "outputs": [],
   "source": []
  }
 ],
 "metadata": {
  "kernelspec": {
   "display_name": "Python 3",
   "language": "python",
   "name": "python3"
  },
  "language_info": {
   "codemirror_mode": {
    "name": "ipython",
    "version": 3
   },
   "file_extension": ".py",
   "mimetype": "text/x-python",
   "name": "python",
   "nbconvert_exporter": "python",
   "pygments_lexer": "ipython3",
   "version": "3.8.5"
  }
 },
 "nbformat": 4,
 "nbformat_minor": 4
}
